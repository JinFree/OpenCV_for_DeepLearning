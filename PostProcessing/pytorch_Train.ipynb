{
  "nbformat": 4,
  "nbformat_minor": 0,
  "metadata": {
    "colab": {
      "name": "Untitled27.ipynb",
      "provenance": []
    },
    "kernelspec": {
      "name": "python3",
      "display_name": "Python 3"
    },
    "accelerator": "GPU"
  },
  "cells": [
    {
      "cell_type": "code",
      "metadata": {
        "id": "NBV1gk-oMo9J",
        "colab_type": "code",
        "colab": {
          "base_uri": "https://localhost:8080/",
          "height": 208
        },
        "outputId": "342b3aa4-0336-4e7c-c2b0-e1759037dae7"
      },
      "source": [
        "!wget https://storage.googleapis.com/mledu-datasets/cats_and_dogs_filtered.zip\n",
        "!unzip -qq cats_and_dogs_filtered.zip"
      ],
      "execution_count": 1,
      "outputs": [
        {
          "output_type": "stream",
          "text": [
            "--2020-06-03 17:20:56--  https://storage.googleapis.com/mledu-datasets/cats_and_dogs_filtered.zip\n",
            "Resolving storage.googleapis.com (storage.googleapis.com)... 64.233.189.128, 2404:6800:4008:c04::80\n",
            "Connecting to storage.googleapis.com (storage.googleapis.com)|64.233.189.128|:443... connected.\n",
            "HTTP request sent, awaiting response... 200 OK\n",
            "Length: 68606236 (65M) [application/zip]\n",
            "Saving to: ‘cats_and_dogs_filtered.zip’\n",
            "\n",
            "cats_and_dogs_filte 100%[===================>]  65.43M  85.4MB/s    in 0.8s    \n",
            "\n",
            "2020-06-03 17:20:58 (85.4 MB/s) - ‘cats_and_dogs_filtered.zip’ saved [68606236/68606236]\n",
            "\n"
          ],
          "name": "stdout"
        }
      ]
    },
    {
      "cell_type": "code",
      "metadata": {
        "id": "_z-XQraeMzot",
        "colab_type": "code",
        "colab": {}
      },
      "source": [
        "import os\n",
        "from torch.utils.data import Dataset\n",
        "import torchvision.transforms as transforms\n",
        "from PIL import Image\n",
        "\n",
        "class PyTorchCustomDataset(Dataset):\n",
        "    def __init__(self\n",
        "                 , root_dir = \"/content/cats_and_dogs_filtered/train\"\n",
        "                 , transform = None):\n",
        "        self.image_abs_path = root_dir\n",
        "        self.transform = transform\n",
        "        self.label_list = os.listdir(self.image_abs_path)\n",
        "        self.label_list.sort()\n",
        "        self.x_list = []\n",
        "        self.y_list = []\n",
        "        for label_index, label_str in enumerate(self.label_list):\n",
        "            img_path = os.path.join(self.image_abs_path, label_str)\n",
        "            img_list = os.listdir(img_path)\n",
        "            for img in img_list:\n",
        "                self.x_list.append(os.path.join(img_path, img))\n",
        "                self.y_list.append(label_index)\n",
        "        pass\n",
        "\n",
        "    def __len__(self):\n",
        "        return len(self.x_list)\n",
        "\n",
        "    def __getitem__(self, idx):\n",
        "        image = Image.open(self.x_list[idx])\n",
        "        if image.mode is not \"RGB\":\n",
        "            image = image.convert('RGB')\n",
        "        if self.transform is not None:\n",
        "            image = self.transform(image)\n",
        "        return image, self.y_list[idx]\n",
        "\n",
        "    def __save_label_map__(self, dst_text_path = \"label_map.txt\"):\n",
        "        label_list = self.label_list\n",
        "        f = open(dst_text_path, 'w')\n",
        "        for i in range(len(label_list)):\n",
        "            f.write(label_list[i]+'\\n')\n",
        "        f.close()\n",
        "        pass\n",
        "\n",
        "    def __num_classes__(self):\n",
        "        return len(self.label_list)"
      ],
      "execution_count": 0,
      "outputs": []
    },
    {
      "cell_type": "code",
      "metadata": {
        "id": "LkeygC34M1xl",
        "colab_type": "code",
        "colab": {}
      },
      "source": [
        "import torch\n",
        "from torchvision import models\n",
        "import torch.nn as nn\n",
        "import torch.nn.functional as F\n",
        "\n",
        "class MODEL(nn.Module):\n",
        "    def __init__(self, num_classes):\n",
        "        super().__init__()\n",
        "        self.network = models.resnet18(pretrained=True)\n",
        "        self.classifier = nn.Sequential(\n",
        "            nn.Dropout()\n",
        "            , nn.Linear(1000, num_classes)\n",
        "            , nn.Sigmoid()\n",
        "        )\n",
        "    def forward(self, x):\n",
        "        x = self.network(x)\n",
        "        return self.classifier(x)"
      ],
      "execution_count": 0,
      "outputs": []
    },
    {
      "cell_type": "code",
      "metadata": {
        "id": "QFsZjzKjM3Bg",
        "colab_type": "code",
        "colab": {}
      },
      "source": [
        "import torch\n",
        "import torch.optim as optim\n",
        "\n",
        "def main():\n",
        "    USE_CUDA = torch.cuda.is_available()\n",
        "    DEVICE = torch.device(\"cuda\" if USE_CUDA else \"cpu\")\n",
        "\n",
        "    img_width, img_height = 224, 224\n",
        "    EPOCHS     = 20\n",
        "    BATCH_SIZE = 16\n",
        "    transform_train = transforms.Compose([\n",
        "                transforms.Resize(size=(img_width, img_height))\n",
        "                , transforms.RandomRotation(degrees=15)\n",
        "                , transforms.ToTensor()\n",
        "                ])\n",
        "    transform_test = transforms.Compose([\n",
        "                transforms.Resize(size=(img_width, img_height))\n",
        "                , transforms.ToTensor()\n",
        "                ])\n",
        "\n",
        "    TrainDataset = PyTorchCustomDataset\n",
        "    TestDataset = PyTorchCustomDataset\n",
        "\n",
        "    train_data = TrainDataset(root_dir = \"/content/cats_and_dogs_filtered/train\"\n",
        "                    , transform = transform_train)\n",
        "    test_data = TestDataset(root_dir = \"/content/cats_and_dogs_filtered/validation\"\n",
        "                    , transform = transform_test)\n",
        "    \n",
        "    train_loader = torch.utils.data.DataLoader(\n",
        "        train_data\n",
        "        , batch_size=BATCH_SIZE\n",
        "        , shuffle=True\n",
        "    )\n",
        "    test_loader = torch.utils.data.DataLoader(\n",
        "        test_data\n",
        "        , batch_size=BATCH_SIZE\n",
        "        , shuffle=True\n",
        "    )\n",
        "    \n",
        "    train_data.__save_label_map__()\n",
        "    num_classes = train_data.__num_classes__()\n",
        "\n",
        "    model = MODEL(num_classes).to(DEVICE)\n",
        "    model_str = \"PyTorch_Classification_Model\"\n",
        "    model_str += \".pt\" \n",
        "    optimizer = optim.SGD(model.parameters(), lr=0.0001)\n",
        "    scheduler = optim.lr_scheduler.StepLR(optimizer, step_size=50, gamma=0.1)\n",
        "    acc = 0.0\n",
        "    for epoch in range(1, EPOCHS + 1):\n",
        "        model.train()\n",
        "        for data, target in (train_loader):\n",
        "            data, target = data.to(DEVICE), target.to(DEVICE)\n",
        "            optimizer.zero_grad()\n",
        "            output = model(data)\n",
        "            loss = F.cross_entropy(output, target)\n",
        "            loss.backward()\n",
        "            optimizer.step()\n",
        "        scheduler.step()\n",
        "\n",
        "        model.eval()\n",
        "        test_loss = 0\n",
        "        correct = 0\n",
        "        with torch.no_grad():\n",
        "            for data, target in (test_loader):\n",
        "                data, target = data.to(DEVICE), target.to(DEVICE)\n",
        "                output = model(data)\n",
        "\n",
        "                # 배치 오차를 합산\n",
        "                test_loss += F.cross_entropy(output, target,\n",
        "                                            reduction='sum').item()\n",
        "\n",
        "                # 가장 높은 값을 가진 인덱스가 바로 예측값\n",
        "                pred = output.max(1, keepdim=True)[1]\n",
        "                correct += pred.eq(target.view_as(pred)).sum().item()\n",
        "\n",
        "        test_loss /= len(test_loader.dataset)\n",
        "        test_accuracy = 100. * correct / len(test_loader.dataset)\n",
        "\n",
        "        print('[{}] Test Loss: {:.4f}, Accuracy: {:.2f}%'.format(\n",
        "                epoch, test_loss, test_accuracy))\n",
        "\n",
        "        if acc < test_accuracy:\n",
        "            acc = test_accuracy\n",
        "            torch.save(model.state_dict(), model_str)\n",
        "            print(\"model saved!\")"
      ],
      "execution_count": 0,
      "outputs": []
    },
    {
      "cell_type": "code",
      "metadata": {
        "id": "F5ny1sWPM8Qg",
        "colab_type": "code",
        "colab": {
          "base_uri": "https://localhost:8080/",
          "height": 590
        },
        "outputId": "9118a359-ac6d-4fa7-d8c2-c4fde6e1e2c3"
      },
      "source": [
        "main()\n"
      ],
      "execution_count": 10,
      "outputs": [
        {
          "output_type": "stream",
          "text": [
            "[1] Test Loss: 0.6822, Accuracy: 57.60%\n",
            "model saved!\n",
            "[2] Test Loss: 0.6007, Accuracy: 78.10%\n",
            "model saved!\n",
            "[3] Test Loss: 0.5388, Accuracy: 87.10%\n",
            "model saved!\n",
            "[4] Test Loss: 0.5030, Accuracy: 90.80%\n",
            "model saved!\n",
            "[5] Test Loss: 0.4741, Accuracy: 92.50%\n",
            "model saved!\n",
            "[6] Test Loss: 0.4514, Accuracy: 93.40%\n",
            "model saved!\n",
            "[7] Test Loss: 0.4380, Accuracy: 94.10%\n",
            "model saved!\n",
            "[8] Test Loss: 0.4258, Accuracy: 94.50%\n",
            "model saved!\n",
            "[9] Test Loss: 0.4174, Accuracy: 94.30%\n",
            "[10] Test Loss: 0.4091, Accuracy: 95.30%\n",
            "model saved!\n",
            "[11] Test Loss: 0.4046, Accuracy: 94.50%\n",
            "[12] Test Loss: 0.3995, Accuracy: 95.20%\n",
            "[13] Test Loss: 0.3950, Accuracy: 95.70%\n",
            "model saved!\n",
            "[14] Test Loss: 0.3889, Accuracy: 95.70%\n",
            "[15] Test Loss: 0.3899, Accuracy: 95.70%\n",
            "[16] Test Loss: 0.3882, Accuracy: 95.00%\n",
            "[17] Test Loss: 0.3817, Accuracy: 95.90%\n",
            "model saved!\n",
            "[18] Test Loss: 0.3815, Accuracy: 95.70%\n",
            "[19] Test Loss: 0.3789, Accuracy: 96.20%\n",
            "model saved!\n",
            "[20] Test Loss: 0.3758, Accuracy: 96.30%\n",
            "model saved!\n"
          ],
          "name": "stdout"
        }
      ]
    },
    {
      "cell_type": "code",
      "metadata": {
        "id": "7KAgNFO0M9a6",
        "colab_type": "code",
        "colab": {
          "base_uri": "https://localhost:8080/",
          "height": 173
        },
        "outputId": "974a207e-02be-4676-85e7-b3280a1e2e9f"
      },
      "source": [
        "!ls -al -h"
      ],
      "execution_count": 12,
      "outputs": [
        {
          "output_type": "stream",
          "text": [
            "total 111M\n",
            "drwxr-xr-x 1 root root 4.0K Jun  3 17:22 .\n",
            "drwxr-xr-x 1 root root 4.0K Jun  3 17:15 ..\n",
            "drwxr-x--- 4 root root 4.0K Sep 23  2016 cats_and_dogs_filtered\n",
            "-rw-r--r-- 1 root root  66M Mar 28  2018 cats_and_dogs_filtered.zip\n",
            "drwxr-xr-x 1 root root 4.0K Jun  2 16:14 .config\n",
            "-rw-r--r-- 1 root root   10 Jun  3 17:27 label_map.txt\n",
            "-rw-r--r-- 1 root root  45M Jun  3 17:32 PyTorch_Classification_Model.pt\n",
            "drwxr-xr-x 1 root root 4.0K May 29 18:19 sample_data\n"
          ],
          "name": "stdout"
        }
      ]
    },
    {
      "cell_type": "code",
      "metadata": {
        "id": "vMArqo_HRuUP",
        "colab_type": "code",
        "colab": {}
      },
      "source": [
        ""
      ],
      "execution_count": 0,
      "outputs": []
    }
  ]
}